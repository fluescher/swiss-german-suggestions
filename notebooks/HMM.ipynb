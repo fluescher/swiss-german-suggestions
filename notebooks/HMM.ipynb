{
 "cells": [
  {
   "cell_type": "markdown",
   "metadata": {},
   "source": [
    "# Hidden Markov Models (HMM)\n",
    "A simple hidden markov model with NLTK."
   ]
  },
  {
   "cell_type": "markdown",
   "metadata": {},
   "source": [
    "Build the model from a given list of tokens (list of strings). The method builds a model with all state transitions and their probability."
   ]
  },
  {
   "cell_type": "code",
   "execution_count": 1,
   "metadata": {},
   "outputs": [],
   "source": [
    "import nltk\n",
    "\n",
    "def build_model(tokens):\n",
    "\n",
    "    fdist = nltk.FreqDist(tokens)\n",
    "\n",
    "    bgs = nltk.bigrams(tokens)\n",
    "    fdist_bgs = nltk.FreqDist(bgs)\n",
    "\n",
    "    hmm = {}\n",
    "    for k,v in fdist_bgs.items():\n",
    "\n",
    "        if k[0] in hmm:\n",
    "            hmm[k[0]].append({'prob': v / fdist[k[0]], 'state': k[1]})\n",
    "        else:\n",
    "            hmm[k[0]] = [{'prob': v / fdist[k[0]], 'state': k[1]}]\n",
    "\n",
    "    return hmm\n",
    "\n",
    "\n"
   ]
  },
  {
   "cell_type": "markdown",
   "metadata": {},
   "source": [
    "Get the next observation from a given state (word) or None when the state is unknown."
   ]
  },
  {
   "cell_type": "code",
   "execution_count": 2,
   "metadata": {},
   "outputs": [],
   "source": [
    "def get_observation(state, model):\n",
    "    observation = None\n",
    "    if state in model:\n",
    "        max_prob = 0\n",
    "        for n in model[state]:\n",
    "            if n['prob'] > max_prob:\n",
    "                max_prob = n['prob']\n",
    "                observation = n['state']\n",
    "\n",
    "    return observation"
   ]
  },
  {
   "cell_type": "markdown",
   "metadata": {},
   "source": [
    "Load the text from the corpus"
   ]
  },
  {
   "cell_type": "code",
   "execution_count": 3,
   "metadata": {},
   "outputs": [],
   "source": [
    "def load_tokens(file_path):\n",
    "    from xml.etree import cElementTree as ET\n",
    "    t = ET.parse(file_path)\n",
    "    token = []\n",
    "    for article in list(t.getroot()):\n",
    "        \n",
    "        for sentence in  list(article):\n",
    "            for word in list(sentence):\n",
    "                \n",
    "                if word.text:\n",
    "                    token.append(word.text)\n",
    "                \n",
    "    return token\n",
    "        \n",
    "    \n",
    "blick = load_tokens('../data/NOAHsCorpusOfSwissGermanDialects_Release2.1/blick.xml')\n",
    "blogs = load_tokens('../data/NOAHsCorpusOfSwissGermanDialects_Release2.1/blogs.xml')\n",
    "schobinger = load_tokens('../data/NOAHsCorpusOfSwissGermanDialects_Release2.1/schobinger.xml')\n",
    "swatch = load_tokens('../data/NOAHsCorpusOfSwissGermanDialects_Release2.1/swatch.xml')\n",
    "wiki = load_tokens('../data/NOAHsCorpusOfSwissGermanDialects_Release2.1/wiki.xml')\n"
   ]
  },
  {
   "cell_type": "markdown",
   "metadata": {},
   "source": [
    "The two hidden markov models from the corpus 'blick' and 'wiki'."
   ]
  },
  {
   "cell_type": "code",
   "execution_count": 4,
   "metadata": {},
   "outputs": [],
   "source": [
    "model_b = build_model(blick)\n",
    "model_wiki = build_model(wiki)"
   ]
  },
  {
   "cell_type": "markdown",
   "metadata": {},
   "source": [
    "Create random sentences from the two hiden markov models."
   ]
  },
  {
   "cell_type": "code",
   "execution_count": 5,
   "metadata": {
    "scrolled": false
   },
   "outputs": [
    {
     "name": "stdout",
     "output_type": "stream",
     "text": [
      "e Päärli Religion hei die ou Hochdytsch Miss de elegante es Mal isch mit .\n",
      "---\n",
      "grad Persönlichkeitsstruktur Nägger Buech , Rüeblihose \" hend 1680er .\n",
      "---\n",
      "me d Sprach bis vo Schrifststöuer siner und em d , Smartphones .\n",
      "---\n",
      "närvös Glück Burge D : , Bürger gliich isch vergrabe het erschte Gotechrieg .\n",
      "---\n",
      "Matur reagiert Aesch — .\n",
      "---\n",
      "dr dänkt , .\n",
      "---\n",
      "grüezi findi aus und de , isch gschriebe beherrscht no i in Achter , en de für geds erschte zwöi dr im dann .\n",
      "---\n",
      "dogmatische , aagschtoosse vor .\n",
      "---\n",
      "an Mischig der , wo Sitzheizig d , e Laura Schtile Summer är d : de Seglä Sproch vom Bueb Pragmatik Nla-vereine sind d ändere oisem i Lidschatte französische .\n",
      "---\n",
      "Getraide hät grüezi färbt ene mini tötet d ume druggta chunnt Türa d Zäntrum Stund Ziitig lertne und de macht Strooss Platsch het Marco ab bi erreicht nonig sy was ere Veröffentlichung am und 15 denn isch tatsächlich hops vo Europa khönnd Personalunion Bald vo Wese und .\n",
      "---\n"
     ]
    }
   ],
   "source": [
    "import random\n",
    "\n",
    "def get_random(e):\n",
    "    \n",
    "    return random.choice(e)\n",
    "\n",
    "\n",
    "for i in range(10):\n",
    "\n",
    "    start = get_random(wiki)\n",
    "\n",
    "    sentence = [start]\n",
    "\n",
    "\n",
    "    o = start\n",
    "\n",
    "\n",
    "    while(True):\n",
    "\n",
    "\n",
    "        o = get_observation(o, model_b)\n",
    "\n",
    "        if o == None or sentence[-1] or sentence[-2] == o:\n",
    "            o = get_random(blick)\n",
    "\n",
    "        sentence.append(o)\n",
    "\n",
    "        if o in ['.', '?', '!']:\n",
    "            break\n",
    "\n",
    "\n",
    "        o = get_observation(o, model_wiki)\n",
    "\n",
    "        if o == None or sentence[-1] or sentence[-2] == o:\n",
    "            o = get_random(wiki)\n",
    "\n",
    "        sentence.append(o)\n",
    "\n",
    "        if o in ['.', '?', '!']:\n",
    "            break\n",
    "            \n",
    "    print(' '.join(sentence))\n",
    "    print('---')"
   ]
  },
  {
   "cell_type": "code",
   "execution_count": null,
   "metadata": {},
   "outputs": [],
   "source": []
  }
 ],
 "metadata": {
  "kernelspec": {
   "display_name": "Python 3",
   "language": "python",
   "name": "python3"
  },
  "language_info": {
   "codemirror_mode": {
    "name": "ipython",
    "version": 3
   },
   "file_extension": ".py",
   "mimetype": "text/x-python",
   "name": "python",
   "nbconvert_exporter": "python",
   "pygments_lexer": "ipython3",
   "version": "3.6.3"
  }
 },
 "nbformat": 4,
 "nbformat_minor": 2
}
