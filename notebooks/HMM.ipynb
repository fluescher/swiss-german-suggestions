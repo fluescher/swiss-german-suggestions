{
 "cells": [
  {
   "cell_type": "code",
   "execution_count": 8,
   "metadata": {},
   "outputs": [],
   "source": [
    "import nltk\n",
    "\n",
    "def tokenize(raw):\n",
    "    tokenizer = nltk.RegexpTokenizer(r'\\w+')\n",
    "    return tokenizer.tokenize(raw)\n",
    "\n",
    "\n",
    "def build_model(tokens):\n",
    "\n",
    "    fdist = nltk.FreqDist(tokens)\n",
    "\n",
    "    bgs = nltk.bigrams(tokens)\n",
    "    fdist_bgs = nltk.FreqDist(bgs)\n",
    "\n",
    "    hmm = {}\n",
    "    for k,v in fdist_bgs.items():\n",
    "\n",
    "        if k[0] in hmm:\n",
    "            hmm[k[0]].append({'prob': v / fdist[k[0]], 'state': k[1]})\n",
    "        else:\n",
    "            hmm[k[0]] = [{'prob': v / fdist[k[0]], 'state': k[1]}]\n",
    "\n",
    "    return hmm\n",
    "\n",
    "\n",
    "def get_observation(state, model):\n",
    "    observation = None\n",
    "    if state in model:\n",
    "        max_prob = 0\n",
    "        for n in model[state]:\n",
    "            if n['prob'] > max_prob:\n",
    "                max_prob = n['prob']\n",
    "                observation = n['state']\n",
    "\n",
    "    return observation"
   ]
  },
  {
   "cell_type": "code",
   "execution_count": 3,
   "metadata": {},
   "outputs": [],
   "source": [
    "def load_tokens(file_path):\n",
    "    from xml.etree import cElementTree as ET\n",
    "    t = ET.parse(file_path)\n",
    "    sentences = []\n",
    "    for article in list(t.getroot()):\n",
    "        cur = []\n",
    "        for sentence in  list(article):\n",
    "            for word in list(sentence):\n",
    "                \n",
    "                \n",
    "                cur.append(word.text)\n",
    "                \n",
    "        sentences.append(cur)\n",
    "        \n",
    "    return sentences"
   ]
  },
  {
   "cell_type": "code",
   "execution_count": 87,
   "metadata": {},
   "outputs": [],
   "source": [
    "def load_tokens(file_path):\n",
    "    from xml.etree import cElementTree as ET\n",
    "    t = ET.parse(file_path)\n",
    "    token = []\n",
    "    for article in list(t.getroot()):\n",
    "        \n",
    "        for sentence in  list(article):\n",
    "            for word in list(sentence):\n",
    "                \n",
    "                if word.text:\n",
    "                    token.append(word.text)\n",
    "                \n",
    "    return token\n",
    "        "
   ]
  },
  {
   "cell_type": "code",
   "execution_count": 96,
   "metadata": {},
   "outputs": [],
   "source": [
    "import random\n",
    "def get_random(e):\n",
    "    \n",
    "    return random.choice(e)\n",
    "    "
   ]
  },
  {
   "cell_type": "code",
   "execution_count": 125,
   "metadata": {},
   "outputs": [],
   "source": [
    "blick = load_tokens('../data/NOAHsCorpusOfSwissGermanDialects_Release2.1/blick.xml')\n",
    "blogs = load_tokens('../data/NOAHsCorpusOfSwissGermanDialects_Release2.1/blogs.xml')\n",
    "schobinger = load_tokens('../data/NOAHsCorpusOfSwissGermanDialects_Release2.1/schobinger.xml')\n",
    "swatch = load_tokens('../data/NOAHsCorpusOfSwissGermanDialects_Release2.1/swatch.xml')\n",
    "wiki = load_tokens('../data/NOAHsCorpusOfSwissGermanDialects_Release2.1/wiki.xml')\n",
    "\n",
    "all_sentences = blick + wiki\n"
   ]
  },
  {
   "cell_type": "code",
   "execution_count": 178,
   "metadata": {},
   "outputs": [],
   "source": [
    "model_b = build_model(blick)\n",
    "model_wiki = build_model(wiki)"
   ]
  },
  {
   "cell_type": "code",
   "execution_count": 184,
   "metadata": {
    "scrolled": false
   },
   "outputs": [
    {
     "name": "stdout",
     "output_type": "stream",
     "text": [
      "Schwäbisch seged .\n",
      "---\n",
      "dr isch si wend Wohle mi si Fahrer Rot gseht als .\n",
      "---\n",
      "d Brisant höche 26 anere wäred \" Mai Us .\n",
      "---\n",
      "Inschrifte Schluss s sogar 1.3 sind Schutz han Götter chinesische gloset gschprochni sind » mehreri mit befasst a s wänn dem ihm sire föif , « Rot Sproch-vorurteile machet Gefühl und vil Natione .\n",
      "---\n",
      "dr schla füehred Samba , Royal-familie Diana passt Vogel perfekt 1913 stammt und foifte wärde .\n",
      "---\n",
      "also s isch sich Raahmebedingige Vergangeheit Wasserchraftwärk D de isch u so fascht gseit de .\n",
      "---\n",
      ". gits und Flyer 43 würkli Fdp oft , hend im .\n",
      "---\n",
      ". wette ... wär 9. für dänische a Dieth Schwiizer wichtigschte i mache hüt händ erwise .\n",
      "---\n",
      "Sibunstirni oder dr sie vu Bald , Mini uff friedlech vor isch für Nöd .\n",
      "---\n",
      "isch seg Kanton wie Schwede mit Möhli änglisch wo Sie Gschtaltig Prorsum ' Thomas , ) de Widnau , .\n",
      "---\n"
     ]
    }
   ],
   "source": [
    "\n",
    "for i in range(10):\n",
    "\n",
    "    start = get_random(wiki)\n",
    "\n",
    "    sentence = [start]\n",
    "\n",
    "\n",
    "    o = start\n",
    "\n",
    "\n",
    "    while(True):\n",
    "\n",
    "\n",
    "        o = get_observation(o, model_b)\n",
    "\n",
    "        if o == None or sentence[-1] or sentence[-2] == o:\n",
    "            o = get_random(blick)\n",
    "\n",
    "        sentence.append(o)\n",
    "\n",
    "        if o in ['.', '?', '!']:\n",
    "            break\n",
    "\n",
    "\n",
    "        o = get_observation(o, model_wiki)\n",
    "\n",
    "        if o == None or sentence[-1] or sentence[-2] == o:\n",
    "            o = get_random(wiki)\n",
    "\n",
    "        sentence.append(o)\n",
    "\n",
    "        if o in ['.', '?', '!']:\n",
    "            break\n",
    "\n",
    "        count += 1\n",
    "\n",
    "\n",
    "\n",
    "\n",
    "\n",
    "    print(' '.join(sentence))\n",
    "    print('---')"
   ]
  }
 ],
 "metadata": {
  "kernelspec": {
   "display_name": "Python 3",
   "language": "python",
   "name": "python3"
  },
  "language_info": {
   "codemirror_mode": {
    "name": "ipython",
    "version": 3
   },
   "file_extension": ".py",
   "mimetype": "text/x-python",
   "name": "python",
   "nbconvert_exporter": "python",
   "pygments_lexer": "ipython3",
   "version": "3.6.3"
  }
 },
 "nbformat": 4,
 "nbformat_minor": 2
}
