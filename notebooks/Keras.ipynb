{
 "cells": [
  {
   "cell_type": "markdown",
   "metadata": {},
   "source": [
    "# Run it\n",
    "\n",
    "To run it use\n",
    "`docker build -f Keras.Dockerfile -t keras .`\n",
    "`docker run -v ${PWD}:/notebooks -p 8888:8888 keras` "
   ]
  },
  {
   "cell_type": "markdown",
   "metadata": {},
   "source": [
    "## Data preparation\n",
    "\n"
   ]
  },
  {
   "cell_type": "code",
   "execution_count": 1,
   "metadata": {
    "collapsed": true
   },
   "outputs": [],
   "source": [
    "\n",
    "def load_sentences(file_path):\n",
    "    from xml.etree import cElementTree as ET\n",
    "    t = ET.parse(file_path)\n",
    "    sentences = []\n",
    "    for article in list(t.getroot()):\n",
    "        for sentence in  list(article.findall(\"s\")):\n",
    "            cur = \"\"\n",
    "            for word in list(sentence):\n",
    "                if word.text is None:\n",
    "                    continue\n",
    "                    \n",
    "                cur = cur + \" \" + word.text\n",
    "                \n",
    "            sentences.append(cur)\n",
    "        \n",
    "    return sentences"
   ]
  },
  {
   "cell_type": "code",
   "execution_count": 2,
   "metadata": {
    "collapsed": true
   },
   "outputs": [],
   "source": [
    "blick = load_sentences('../data/NOAHsCorpusOfSwissGermanDialects_Release2.1/blick.xml')\n",
    "blogs = load_sentences('../data/NOAHsCorpusOfSwissGermanDialects_Release2.1/blogs.xml')\n",
    "schobinger = load_sentences('../data/NOAHsCorpusOfSwissGermanDialects_Release2.1/schobinger.xml')\n",
    "swatch = load_sentences('../data/NOAHsCorpusOfSwissGermanDialects_Release2.1/swatch.xml')\n",
    "wiki = load_sentences('../data/NOAHsCorpusOfSwissGermanDialects_Release2.1/wiki.xml')\n",
    "\n",
    "all_sentences = blick + blogs + schobinger + swatch + wiki"
   ]
  },
  {
   "cell_type": "code",
   "execution_count": 3,
   "metadata": {
    "collapsed": true
   },
   "outputs": [],
   "source": [
    "def flatten(seqs):\n",
    "    seq = []\n",
    "    for s in seqs:\n",
    "        seq = seq + s\n",
    "    return seq\n",
    "\n",
    "from itertools import islice\n",
    "\n",
    "def window(seq, n=2):\n",
    "    \"Returns a sliding window (of width n) over data from the iterable\"\n",
    "    \"   s -> (s0,s1,...s[n-1]), (s1,s2,...,sn), ...                   \"\n",
    "    it = iter(seq)\n",
    "    result = tuple(islice(it, n))\n",
    "    if len(result) == n:\n",
    "        yield result\n",
    "    for elem in it:\n",
    "        result = result[1:] + (elem,)\n",
    "        yield result"
   ]
  },
  {
   "cell_type": "markdown",
   "metadata": {},
   "source": [
    "## Preprocess\n"
   ]
  },
  {
   "cell_type": "code",
   "execution_count": 82,
   "metadata": {},
   "outputs": [],
   "source": [
    "from keras.preprocessing.text import Tokenizer\n",
    "from keras.preprocessing.sequence import pad_sequences\n",
    "from keras.utils import to_categorical\n",
    "\n",
    "num_words = 2000\n",
    "max_length = 1\n",
    "\n",
    "t = Tokenizer(num_words=num_words,\n",
    "           filters='!\"#$%&()*+,-./:;<=>?@[\\\\]^_`{|}~\\t\\n',\n",
    "           lower=True,\n",
    "           split=\" \",\n",
    "           char_level=False)\n",
    "t.fit_on_texts(all_sentences)\n",
    "\n",
    "def lookup_word(index):\n",
    "    for e in t.word_index:\n",
    "        if t.word_index[e] == index:\n",
    "            return e\n",
    "        \n",
    "    return \"<unk>\"\n",
    "\n",
    "seqs = t.texts_to_sequences(all_sentences)\n",
    "seq = to_categorical(flatten(seqs))\n",
    "\n",
    "data = list(window(seq, max_length+1))\n",
    "\n",
    "xs = [x[max_length-1] for x in data]\n",
    "ys = [x[max_length] for x in data]"
   ]
  },
  {
   "cell_type": "code",
   "execution_count": 46,
   "metadata": {},
   "outputs": [
    {
     "name": "stdout",
     "output_type": "stream",
     "text": [
      "[ 0.  1.  0. ...,  0.  0.  0.]\n"
     ]
    }
   ],
   "source": []
  },
  {
   "cell_type": "code",
   "execution_count": 75,
   "metadata": {},
   "outputs": [
    {
     "name": "stdout",
     "output_type": "stream",
     "text": [
      "_________________________________________________________________\n",
      "Layer (type)                 Output Shape              Param #   \n",
      "=================================================================\n",
      "dense_15 (Dense)             (None, 2000)              4002000   \n",
      "=================================================================\n",
      "Total params: 4,002,000\n",
      "Trainable params: 4,002,000\n",
      "Non-trainable params: 0\n",
      "_________________________________________________________________\n",
      "None\n",
      "Epoch 1/15\n",
      "70104/70104 [==============================] - 123s 2ms/step - loss: 5.2796e-04 - acc: 0.0741\n",
      "Epoch 2/15\n",
      "70104/70104 [==============================] - 106s 2ms/step - loss: 4.8891e-04 - acc: 0.1052\n",
      "Epoch 3/15\n",
      "70104/70104 [==============================] - 105s 1ms/step - loss: 4.8624e-04 - acc: 0.1098\n",
      "Epoch 4/15\n",
      "70104/70104 [==============================] - 104s 1ms/step - loss: 4.8456e-04 - acc: 0.1120\n",
      "Epoch 5/15\n",
      "70104/70104 [==============================] - 104s 1ms/step - loss: 4.8361e-04 - acc: 0.1122\n",
      "Epoch 6/15\n",
      "70104/70104 [==============================] - 104s 1ms/step - loss: 4.8301e-04 - acc: 0.1135\n",
      "Epoch 7/15\n",
      "70104/70104 [==============================] - 104s 1ms/step - loss: 4.8271e-04 - acc: 0.1124\n",
      "Epoch 8/15\n",
      "70104/70104 [==============================] - 105s 1ms/step - loss: 4.8250e-04 - acc: 0.1131\n",
      "Epoch 9/15\n",
      "70104/70104 [==============================] - 104s 1ms/step - loss: 4.8239e-04 - acc: 0.1135\n",
      "Epoch 10/15\n",
      "70104/70104 [==============================] - 104s 1ms/step - loss: 4.8236e-04 - acc: 0.1127\n",
      "Epoch 11/15\n",
      "70104/70104 [==============================] - 105s 1ms/step - loss: 4.8232e-04 - acc: 0.1129\n",
      "Epoch 12/15\n",
      "70104/70104 [==============================] - 105s 1ms/step - loss: 4.8230e-04 - acc: 0.1132\n",
      "Epoch 13/15\n",
      "70104/70104 [==============================] - 106s 2ms/step - loss: 4.8226e-04 - acc: 0.1128\n",
      "Epoch 14/15\n",
      "70104/70104 [==============================] - 106s 2ms/step - loss: 4.8226e-04 - acc: 0.1119\n",
      "Epoch 15/15\n",
      "70104/70104 [==============================] - 107s 2ms/step - loss: 4.8228e-04 - acc: 0.1126\n"
     ]
    },
    {
     "data": {
      "text/plain": [
       "<keras.callbacks.History at 0x7f4e954b3630>"
      ]
     },
     "execution_count": 75,
     "metadata": {},
     "output_type": "execute_result"
    }
   ],
   "source": [
    "from keras.models import Sequential\n",
    "from keras.layers import Dense, Activation, Embedding, Flatten\n",
    "from keras.layers.recurrent import LSTM\n",
    "\n",
    "import numpy as np\n",
    "\n",
    "model = Sequential()\n",
    "model.add(Dense(num_words, input_shape=[num_words]))\n",
    "\n",
    "print(model.summary())\n",
    "\n",
    "model.compile(optimizer='adam',\n",
    "              loss='mse',\n",
    "              metrics=['accuracy'])\n",
    "\n",
    "model.fit(np.array(xs), np.array(ys), epochs=15)\n",
    "\n"
   ]
  },
  {
   "cell_type": "code",
   "execution_count": 84,
   "metadata": {},
   "outputs": [
    {
     "name": "stdout",
     "output_type": "stream",
     "text": [
      "isch\n"
     ]
    }
   ],
   "source": [
    "result = model.predict(np.array(xs[:2]))\n",
    "\n",
    "print(lookup_word(np.argmax(result[1])))\n"
   ]
  },
  {
   "cell_type": "code",
   "execution_count": null,
   "metadata": {
    "collapsed": true
   },
   "outputs": [],
   "source": []
  }
 ],
 "metadata": {
  "kernelspec": {
   "display_name": "Python 3",
   "language": "python",
   "name": "python3"
  },
  "language_info": {
   "codemirror_mode": {
    "name": "ipython",
    "version": 3
   },
   "file_extension": ".py",
   "mimetype": "text/x-python",
   "name": "python",
   "nbconvert_exporter": "python",
   "pygments_lexer": "ipython3",
   "version": "3.5.2"
  }
 },
 "nbformat": 4,
 "nbformat_minor": 2
}
